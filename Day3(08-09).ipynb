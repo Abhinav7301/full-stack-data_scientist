{
 "cells": [
  {
   "cell_type": "code",
   "execution_count": 30,
   "id": "97c20475",
   "metadata": {},
   "outputs": [
    {
     "ename": "KeyboardInterrupt",
     "evalue": "",
     "output_type": "error",
     "traceback": [
      "\u001b[1;31m---------------------------------------------------------------------------\u001b[0m",
      "\u001b[1;31mKeyboardInterrupt\u001b[0m                         Traceback (most recent call last)",
      "Cell \u001b[1;32mIn[30], line 1\u001b[0m\n\u001b[1;32m----> 1\u001b[0m \u001b[38;5;28mprint\u001b[39m(\u001b[38;5;241m10\u001b[39m)\n",
      "File \u001b[1;32m<stringsource>:69\u001b[0m, in \u001b[0;36mcfunc.to_py.__Pyx_CFunc_b0409f__29_pydevd_sys_monitoring_cython_object__lParen__etc_to_py_4code_4line.wrap\u001b[1;34m()\u001b[0m\n",
      "File \u001b[1;32m_pydevd_sys_monitoring\\\\_pydevd_sys_monitoring_cython.pyx:1465\u001b[0m, in \u001b[0;36m_pydevd_sys_monitoring_cython._line_event\u001b[1;34m()\u001b[0m\n",
      "File \u001b[1;32m_pydevd_sys_monitoring\\\\_pydevd_sys_monitoring_cython.pyx:1507\u001b[0m, in \u001b[0;36m_pydevd_sys_monitoring_cython._internal_line_event\u001b[1;34m()\u001b[0m\n",
      "File \u001b[1;32m_pydevd_sys_monitoring\\\\_pydevd_sys_monitoring_cython.pyx:1308\u001b[0m, in \u001b[0;36m_pydevd_sys_monitoring_cython._stop_on_breakpoint\u001b[1;34m()\u001b[0m\n",
      "File \u001b[1;32m_pydevd_sys_monitoring\\\\_pydevd_sys_monitoring_cython.pyx:1945\u001b[0m, in \u001b[0;36m_pydevd_sys_monitoring_cython._do_wait_suspend\u001b[1;34m()\u001b[0m\n",
      "File \u001b[1;32mc:\\Users\\abhin\\anaconda3\\Lib\\site-packages\\debugpy\\_vendored\\pydevd\\pydevd.py:2185\u001b[0m, in \u001b[0;36mPyDB.do_wait_suspend\u001b[1;34m(self, thread, frame, event, arg, exception_type)\u001b[0m\n\u001b[0;32m   2182\u001b[0m             from_this_thread\u001b[38;5;241m.\u001b[39mappend(frame_custom_thread_id)\n\u001b[0;32m   2184\u001b[0m     \u001b[38;5;28;01mwith\u001b[39;00m \u001b[38;5;28mself\u001b[39m\u001b[38;5;241m.\u001b[39m_threads_suspended_single_notification\u001b[38;5;241m.\u001b[39mnotify_thread_suspended(thread_id, thread, stop_reason):\n\u001b[1;32m-> 2185\u001b[0m         keep_suspended \u001b[38;5;241m=\u001b[39m \u001b[38;5;28mself\u001b[39m\u001b[38;5;241m.\u001b[39m_do_wait_suspend(thread, frame, event, arg, trace_suspend_type, from_this_thread, frames_tracker)\n\u001b[0;32m   2187\u001b[0m frames_list \u001b[38;5;241m=\u001b[39m \u001b[38;5;28;01mNone\u001b[39;00m\n\u001b[0;32m   2189\u001b[0m \u001b[38;5;28;01mif\u001b[39;00m keep_suspended:\n\u001b[0;32m   2190\u001b[0m     \u001b[38;5;66;03m# This means that we should pause again after a set next statement.\u001b[39;00m\n",
      "File \u001b[1;32mc:\\Users\\abhin\\anaconda3\\Lib\\site-packages\\debugpy\\_vendored\\pydevd\\pydevd.py:2254\u001b[0m, in \u001b[0;36mPyDB._do_wait_suspend\u001b[1;34m(self, thread, frame, event, arg, trace_suspend_type, from_this_thread, frames_tracker)\u001b[0m\n\u001b[0;32m   2251\u001b[0m                 queue\u001b[38;5;241m.\u001b[39mput(internal_cmd)\n\u001b[0;32m   2252\u001b[0m                 wait_timeout \u001b[38;5;241m=\u001b[39m TIMEOUT_FAST\n\u001b[1;32m-> 2254\u001b[0m         notify_event\u001b[38;5;241m.\u001b[39mwait(wait_timeout)\n\u001b[0;32m   2255\u001b[0m         notify_event\u001b[38;5;241m.\u001b[39mclear()\n\u001b[0;32m   2257\u001b[0m \u001b[38;5;28;01mfinally\u001b[39;00m:\n",
      "File \u001b[1;32mc:\\Users\\abhin\\anaconda3\\Lib\\threading.py:659\u001b[0m, in \u001b[0;36mEvent.wait\u001b[1;34m(self, timeout)\u001b[0m\n\u001b[0;32m    657\u001b[0m signaled \u001b[38;5;241m=\u001b[39m \u001b[38;5;28mself\u001b[39m\u001b[38;5;241m.\u001b[39m_flag\n\u001b[0;32m    658\u001b[0m \u001b[38;5;28;01mif\u001b[39;00m \u001b[38;5;129;01mnot\u001b[39;00m signaled:\n\u001b[1;32m--> 659\u001b[0m     signaled \u001b[38;5;241m=\u001b[39m \u001b[38;5;28mself\u001b[39m\u001b[38;5;241m.\u001b[39m_cond\u001b[38;5;241m.\u001b[39mwait(timeout)\n\u001b[0;32m    660\u001b[0m \u001b[38;5;28;01mreturn\u001b[39;00m signaled\n",
      "File \u001b[1;32mc:\\Users\\abhin\\anaconda3\\Lib\\threading.py:363\u001b[0m, in \u001b[0;36mCondition.wait\u001b[1;34m(self, timeout)\u001b[0m\n\u001b[0;32m    361\u001b[0m \u001b[38;5;28;01melse\u001b[39;00m:\n\u001b[0;32m    362\u001b[0m     \u001b[38;5;28;01mif\u001b[39;00m timeout \u001b[38;5;241m>\u001b[39m \u001b[38;5;241m0\u001b[39m:\n\u001b[1;32m--> 363\u001b[0m         gotit \u001b[38;5;241m=\u001b[39m waiter\u001b[38;5;241m.\u001b[39macquire(\u001b[38;5;28;01mTrue\u001b[39;00m, timeout)\n\u001b[0;32m    364\u001b[0m     \u001b[38;5;28;01melse\u001b[39;00m:\n\u001b[0;32m    365\u001b[0m         gotit \u001b[38;5;241m=\u001b[39m waiter\u001b[38;5;241m.\u001b[39macquire(\u001b[38;5;28;01mFalse\u001b[39;00m)\n",
      "\u001b[1;31mKeyboardInterrupt\u001b[0m: "
     ]
    }
   ],
   "source": [
    "print(10)\n"
   ]
  },
  {
   "cell_type": "code",
   "execution_count": 23,
   "id": "40a0b1ed",
   "metadata": {},
   "outputs": [
    {
     "name": "stdout",
     "output_type": "stream",
     "text": [
      "30\n"
     ]
    }
   ],
   "source": [
    "a=10\n",
    "b=20\n",
    "print(a+b)"
   ]
  },
  {
   "cell_type": "code",
   "execution_count": 24,
   "id": "6ec9dd10",
   "metadata": {},
   "outputs": [
    {
     "name": "stdout",
     "output_type": "stream",
     "text": [
      "19 is a prime number\n"
     ]
    }
   ],
   "source": [
    "def is_prime(n):\n",
    "    if n<=1:\n",
    "        return False\n",
    "    for i in range(2, int(n**0.5) + 1):\n",
    "        if n % i == 0:\n",
    "            return False\n",
    "    return True\n",
    "\n",
    "num = 19\n",
    "if is_prime(num):\n",
    "    print(f\"{num} is a prime number\")\n",
    "else:\n",
    "    print(f\"{num} is not a prime number\")\n",
    "\n",
    "\n",
    "\n",
    "\n"
   ]
  },
  {
   "cell_type": "code",
   "execution_count": 48,
   "id": "e93f11a5",
   "metadata": {},
   "outputs": [
    {
     "name": "stdout",
     "output_type": "stream",
     "text": [
      "[2, 3, 5, 7, 11, 13, 17, 19]\n"
     ]
    }
   ],
   "source": [
    "def find_primes_up_to(n):\n",
    "    primes = []\n",
    "    for num in range(2, n+1):\n",
    "        is_prime = True\n",
    "        for i in range(2, int(num**0.5)+1):\n",
    "            if num % i == 0:\n",
    "                is_prime = False\n",
    "                break\n",
    "        if is_prime:\n",
    "            primes.append(num)\n",
    "    return primes\n",
    "\n",
    "n = 20\n",
    "print(find_primes_up_to(n))"
   ]
  },
  {
   "cell_type": "code",
   "execution_count": 60,
   "id": "ce70d285",
   "metadata": {},
   "outputs": [
    {
     "name": "stdout",
     "output_type": "stream",
     "text": [
      "True\n"
     ]
    }
   ],
   "source": [
    "def palindrome(s):\n",
    "    return s == s[::-1]\n",
    "k= \"neveroddoreven\"\n",
    "print(palindrome(k))\n",
    "\n"
   ]
  },
  {
   "cell_type": "code",
   "execution_count": 61,
   "id": "a9925767",
   "metadata": {},
   "outputs": [
    {
     "name": "stdout",
     "output_type": "stream",
     "text": [
      "True\n"
     ]
    }
   ],
   "source": [
    "def anagrams(str1,str2):\n",
    "    s1 = ''.join(c.lower() for c in str1 if c.isalnum())\n",
    "    s2 = ''.join(c.lower() for c in str2 if c.isalnum())\n",
    "    return sorted(s1) == sorted(s2)\n",
    "print(anagrams(\"Listen\",\"Silent\"))"
   ]
  },
  {
   "cell_type": "code",
   "execution_count": 51,
   "id": "d015ef8b",
   "metadata": {},
   "outputs": [
    {
     "name": "stdout",
     "output_type": "stream",
     "text": [
      "Vowels=2, Consonants=3\n"
     ]
    }
   ],
   "source": [
    "def count_vowels_consonants(s):\n",
    "    vowels = \"aeiouAEIOU\"\n",
    "    vowel_count = sum(1 for char in s if char in vowels)\n",
    "    consonant_count = sum(1 for char in s if char.isalpha() and char not in vowels)\n",
    "    return vowel_count, consonant_count\n",
    "input_str = \"hello\"\n",
    "v,c = count_vowels_consonants(input_str)\n",
    "print(f\"Vowels={v}, Consonants={c}\")  "
   ]
  },
  {
   "cell_type": "code",
   "execution_count": 62,
   "id": "2cfdfb77",
   "metadata": {},
   "outputs": [
    {
     "name": "stdout",
     "output_type": "stream",
     "text": [
      "amazing\n"
     ]
    }
   ],
   "source": [
    "def longest_word(s):\n",
    "    words = s.split()\n",
    "    return max(words, key=len)\n",
    "s = \"Python is amazing\"\n",
    "print(longest_word(s)) "
   ]
  },
  {
   "cell_type": "code",
   "execution_count": 13,
   "id": "629fb9ed",
   "metadata": {},
   "outputs": [
    {
     "name": "stdout",
     "output_type": "stream",
     "text": [
      "vowels=2, Consonants=3\n"
     ]
    }
   ],
   "source": [
    "'''''Count Vowels & Consonants\n",
    " \n",
    "   * Return count of vowels & consonants.\n",
    "   * Input: `\"hello\"`\n",
    "   * Output: `Vowels=2, Consonants=3` '''\n",
    "def count_vow_con(a):\n",
    "    c,v=0,0\n",
    "    for i in a.lower():\n",
    "        if i in \"aeiou\":\n",
    "            v+=1\n",
    "        elif i.isalpha():\n",
    "            c+=1\n",
    "    return f\"vowels={v}, Consonants={c}\"\n",
    "k=(count_vow_con(\"hello\"))\n",
    "print(k)"
   ]
  },
  {
   "cell_type": "code",
   "execution_count": 70,
   "id": "a7857883",
   "metadata": {},
   "outputs": [
    {
     "name": "stdout",
     "output_type": "stream",
     "text": [
      "Counter({'cat': 2, 'dog': 1})\n"
     ]
    }
   ],
   "source": [
    "\n",
    "from collections import Counter\n",
    "def word_frequency(s):\n",
    "    words = s.split()\n",
    "    return Counter(words)\n",
    "del input\n",
    "k=input()\n",
    "print(word_frequency(k))\n"
   ]
  },
  {
   "cell_type": "code",
   "execution_count": 36,
   "id": "1aa73fe2",
   "metadata": {},
   "outputs": [
    {
     "name": "stdout",
     "output_type": "stream",
     "text": [
      "sqrt(25) = 5.0\n",
      "factorial(5) = 120\n",
      "sin(0) = 0.0\n",
      "cos(0) = 1.0\n"
     ]
    }
   ],
   "source": [
    "'''Simple Calculator with `math`\n",
    " \n",
    "* Perform sqrt, factorial, sin, cos.\n",
    "* Input: `sqrt(25)`\n",
    "* Output: `5.0`'''\n",
    "\n",
    "import math\n",
    "\n",
    "def simple_calculator():\n",
    "    print(\"sqrt(25) =\", math.sqrt(25))\n",
    "    print(\"factorial(5) =\", math.factorial(5))\n",
    "    print(\"sin(0) =\", math.sin(0))\n",
    "    print(\"cos(0) =\", math.cos(0))\n",
    "\n",
    "simple_calculator()\n"
   ]
  },
  {
   "cell_type": "code",
   "execution_count": 14,
   "id": "22757559",
   "metadata": {},
   "outputs": [
    {
     "name": "stdout",
     "output_type": "stream",
     "text": [
      "Weather: rainy, Temp: 43° C\n"
     ]
    }
   ],
   "source": [
    "'''' 4. Weather Simulator (`random`)\n",
    " \n",
    "* Input: None\n",
    "* Output: `\"Weather: Sunny, Temp: 32 ° C\"` '''\n",
    "import random\n",
    "w=['sunny','rainy','cold']\n",
    "print(f'Weather: {random.choice(w)}, Temp: {random.randint(24,45)}° C')"
   ]
  },
  {
   "cell_type": "code",
   "execution_count": null,
   "id": "81d92f4c",
   "metadata": {},
   "outputs": [
    {
     "name": "stdout",
     "output_type": "stream",
     "text": [
      "5\n",
      "4\n",
      "3\n",
      "2\n",
      "1\n",
      "Time's up!\n"
     ]
    }
   ],
   "source": [
    "'''5. Timer Program (`time`)\n",
    " \n",
    "* Input: `countdown(5)`\n",
    "* Output:\n",
    " \n",
    "  ```\n",
    "  5  \n",
    "  4  \n",
    "  3  \n",
    "  2  \n",
    "  1  \n",
    "  Time’s up!'''\n",
    "import time\n",
    "def countdown(c):\n",
    "    while c:\n",
    "        print(c)\n",
    "        time.sleep(1)\n",
    "        c -= 1\n",
    "    print(\"Time's up!\")\n",
    "k=int(input())\n",
    "countdown(k)\n"
   ]
  },
  {
   "cell_type": "code",
   "execution_count": null,
   "id": "36957c31",
   "metadata": {},
   "outputs": [
    {
     "name": "stdout",
     "output_type": "stream",
     "text": [
      "[0, 1, 1, 2, 3, 5, 8]\n"
     ]
    }
   ],
   "source": [
    "'''ASSIGNMENT (2)'''\n",
    "'''Fibonacci Generator\n",
    " \n",
    "* Function generates `n` Fibonacci numbers.\n",
    " \n",
    "* Input: `n = 7`\n",
    " \n",
    "* Output: `[0, 1, 1, 2, 3, 5, 8]'''\n",
    "\n",
    "def fibonocci(n):\n",
    "    fib_sequence = [0,1]\n",
    "    if n==1:\n",
    "        return [0]\n",
    "    elif n==2:\n",
    "        return fib_sequence\n",
    "    for i in range(2,n):\n",
    "        next_fib = fib_sequence[-1] + fib_sequence[-2]\n",
    "        fib_sequence.append(next_fib)\n",
    "    return fib_sequence\n",
    "print(fibonocci(7))\n"
   ]
  },
  {
   "cell_type": "code",
   "execution_count": 5,
   "id": "c0030dee",
   "metadata": {},
   "outputs": [
    {
     "name": "stdout",
     "output_type": "stream",
     "text": [
      "120\n"
     ]
    }
   ],
   "source": [
    "'''Factorial Using Recursion\n",
    " \n",
    "* Compute factorial using recursion.\n",
    " \n",
    "* Input: `5`\n",
    " \n",
    "* Output: `120`'''\n",
    "\n",
    "def factorial(n):\n",
    "    if n==0 or n==1:\n",
    "        return 1\n",
    "    else:\n",
    "        return n*factorial(n-1)\n",
    "print(factorial(5))"
   ]
  },
  {
   "cell_type": "code",
   "execution_count": 9,
   "id": "8bfcf871",
   "metadata": {},
   "outputs": [
    {
     "name": "stdout",
     "output_type": "stream",
     "text": [
      "Counter({'apple': 2, 'banana': 2, 'orange': 1})\n"
     ]
    }
   ],
   "source": [
    "'''Unique Words Counter\n",
    " \n",
    "* Return unique words in a sentence.\n",
    " \n",
    "* Input: `\"apple banana apple orange banana\"`\n",
    " \n",
    "* Output: `{'apple':2,'banana':2,'orange':1}'''\n",
    "\n",
    "from collections import Counter\n",
    "def unique_word_counter(s):\n",
    "    words = s.split()\n",
    "    return Counter(words)\n",
    "s = input()\n",
    "print(unique_word_counter(s))\n"
   ]
  },
  {
   "cell_type": "code",
   "execution_count": 14,
   "id": "b8354e73",
   "metadata": {},
   "outputs": [
    {
     "name": "stdout",
     "output_type": "stream",
     "text": [
      "grade=A\n",
      "None\n"
     ]
    }
   ],
   "source": [
    "'''Grade Calculator\n",
    " \n",
    "* Function takes marks and returns grade.\n",
    " \n",
    "* Input: `[85, 90, 78]`\n",
    " \n",
    "* Output: `\"Grade: A\"'''\n",
    "\n",
    "def grade_calculator(marks):\n",
    "    average = sum(marks) / len(marks)\n",
    "    if average>=90:\n",
    "        print(\"grade=A+\")\n",
    "    elif average>=80:\n",
    "        print(\"grade=A\")\n",
    "    elif average>=70:\n",
    "        print(\"grade=B+\")\n",
    "    else:\n",
    "        grade=\"fail\"\n",
    "print(grade_calculator([85,90,78])) "
   ]
  },
  {
   "cell_type": "code",
   "execution_count": 15,
   "id": "4fd5f7f1",
   "metadata": {},
   "outputs": [
    {
     "name": "stdout",
     "output_type": "stream",
     "text": [
      "10\n"
     ]
    }
   ],
   "source": [
    "'''Second Largest Number \n",
    "* Return 2nd largest number from a list. \n",
    "* Input: [10, 5, 20, 8] \n",
    "* Output: 10'''\n",
    "\n",
    "def second_largest(numbers):\n",
    "    unique_numbers = list(set(numbers))\n",
    "    unique_numbers.sort(reverse=True)\n",
    "    return unique_numbers[1]\n",
    "print(second_largest([10,5,20,8]))"
   ]
  },
  {
   "cell_type": "code",
   "execution_count": 29,
   "id": "3198eef2",
   "metadata": {},
   "outputs": [
    {
     "name": "stdout",
     "output_type": "stream",
     "text": [
      "['K.ipynb', 'prime.py']\n",
      "text files: 0\n",
      "python files: 1\n"
     ]
    }
   ],
   "source": [
    "'''Python Modules ( 5 challenges)\n",
    " \n",
    "1. `os` → Count Files by Extension\n",
    " \n",
    "Write a program using `os` to count how many `.txt` and `.py` files are in the current directory.\n",
    " \n",
    "Sample Input (files in folder):\n",
    " \n",
    "```\n",
    " \n",
    "[\"notes.txt\", \"app.py\", \"data.csv\", \"report.txt\", \"main.py\"]\n",
    " \n",
    "```\n",
    " \n",
    "Sample Output:\n",
    " \n",
    "```\n",
    " \n",
    "Text files: 2\n",
    " \n",
    "Python files: 2'''\n",
    "\n",
    "import os\n",
    "files = os.listdir()\n",
    "print(files)\n",
    "txt_count = 0\n",
    "py_count = 0\n",
    "for file in files:\n",
    "    if file.endswith(\".txt\"):\n",
    "        txt_count+=1\n",
    "    if file.endswith(\".py\"):\n",
    "        py_count+=1\n",
    "print(\"text files:\",txt_count)\n",
    "print(\"python files:\",py_count)\n"
   ]
  },
  {
   "cell_type": "code",
   "execution_count": 32,
   "id": "0a18b81b",
   "metadata": {},
   "outputs": [
    {
     "name": "stdout",
     "output_type": "stream",
     "text": [
      "Mean: 87.85714285714286\n",
      "Median: 90\n",
      "Variance: 73.80952380952381\n"
     ]
    }
   ],
   "source": [
    "'''`statistics` → Exam Score Analysis\n",
    " \n",
    "Use `statistics` to calculate the mean, median, and variance of student exam scores.\n",
    " \n",
    "Sample Input:\n",
    " \n",
    "```\n",
    " \n",
    "Scores = [75, 80, 90, 100, 85, 90, 95]\n",
    " \n",
    "```\n",
    " \n",
    "Sample Output:\n",
    " \n",
    "```\n",
    " \n",
    "Mean = 88.57\n",
    " \n",
    "Median = 90\n",
    " \n",
    "Variance = 71.43'''\n",
    "\n",
    "\n",
    "import statistics\n",
    "\n",
    "n = list(map(int, input(\"Enter the scores: \").split()))\n",
    "print(\"Mean:\", statistics.mean(n))\n",
    "print(\"Median:\", statistics.median(n))\n",
    "print(\"Variance:\",statistics.variance(n))\n",
    "\n",
    "\n",
    "\n"
   ]
  },
  {
   "cell_type": "code",
   "execution_count": 34,
   "id": "89f82508",
   "metadata": {},
   "outputs": [
    {
     "name": "stdout",
     "output_type": "stream",
     "text": [
      "Roots are: 2.0 and 1.0\n"
     ]
    }
   ],
   "source": [
    "'''`math` → Quadratic Equation Solver\n",
    " \n",
    "Use the `math` module to solve quadratic equations of the form `ax² + bx + c = 0`.\n",
    " \n",
    "Sample Input:\n",
    " \n",
    "```\n",
    " \n",
    "a = 1, b = -3, c = 2\n",
    " \n",
    "```\n",
    " \n",
    "Sample Output:\n",
    " \n",
    "```\n",
    " \n",
    "Roots are: 1.0 and 2.0'''\n",
    "\n",
    "import math\n",
    "def quadratic(a,b,c):\n",
    "    discriminant = b**2-4*a*c\n",
    "    if discriminant<0:\n",
    "        print(\"no real roots\")\n",
    "    else:\n",
    "        root1 = (-b + math.sqrt(discriminant))/(2*a)\n",
    "        root2 = (-b - math.sqrt(discriminant))/(2*a)\n",
    "        print(\"Roots are:\",root1, \"and\" ,root2)\n",
    "quadratic(1,-3,2)\n",
    " "
   ]
  },
  {
   "cell_type": "code",
   "execution_count": null,
   "id": "9dd2ac20",
   "metadata": {},
   "outputs": [
    {
     "name": "stdout",
     "output_type": "stream",
     "text": [
      "your choice rock\n",
      "computer choice pappers\n",
      "computer win\n"
     ]
    }
   ],
   "source": [
    "'''`random` → Rock Paper Scissors Game\n",
    " \n",
    "Use `random.choice()` to let the computer play Rock–Paper–Scissors against the user.\n",
    " \n",
    "Sample Input:\n",
    " \n",
    "```\n",
    " \n",
    "User: Rock\n",
    " \n",
    "Computer (random): Scissors\n",
    " \n",
    "```\n",
    " \n",
    "Sample Output:\n",
    " \n",
    "```\n",
    " \n",
    "You chose Rock, Computer chose Scissors\n",
    " \n",
    "You Win!\n",
    " \n",
    "```'''\n",
    " import random\n",
    "choices = [\"rock\",\"scissors\",\"pappers\"]\n",
    "user = input(\"enter rock,paper or scissors\")\n",
    "computer = random.choice(choices)\n",
    "print(\"your choice\",user)\n",
    "print(\"computer choice\",computer)\n",
    "if user == computer:\n",
    "    print(\"tie\")\n",
    "elif(user== \"rock\" and computer==\"scissors\") or (user==\"paper\" and computer==\"scissors\") or (user==\"paper\" and computer==\"rock\"):\n",
    "    print(\"you win\")\n",
    "else:\n",
    "    print(\"computer win\")"
   ]
  },
  {
   "cell_type": "code",
   "execution_count": 5,
   "id": "9a5d884f",
   "metadata": {},
   "outputs": [
    {
     "ename": "ValueError",
     "evalue": "invalid literal for int() with base 10: '--f=c:\\\\Users\\\\abhin\\\\AppData\\\\Roaming\\\\jupyter\\\\runtime\\\\kernel-v333d04d2fca5fc5bd924be0b0dfb2fb709705686b.json'",
     "output_type": "error",
     "traceback": [
      "\u001b[1;31m---------------------------------------------------------------------------\u001b[0m",
      "\u001b[1;31mValueError\u001b[0m                                Traceback (most recent call last)",
      "Cell \u001b[1;32mIn[5], line 22\u001b[0m\n\u001b[0;32m      1\u001b[0m \u001b[38;5;124;03m'''`sys` → Sum from Command Line\u001b[39;00m\n\u001b[0;32m      2\u001b[0m \u001b[38;5;124;03m \u001b[39;00m\n\u001b[0;32m      3\u001b[0m \u001b[38;5;124;03mWrite a program using `sys.argv` to take three numbers from the command line and print their sum.\u001b[39;00m\n\u001b[1;32m   (...)\u001b[0m\n\u001b[0;32m     18\u001b[0m \u001b[38;5;124;03m \u001b[39;00m\n\u001b[0;32m     19\u001b[0m \u001b[38;5;124;03m```'''\u001b[39;00m\n\u001b[0;32m     20\u001b[0m \u001b[38;5;28;01mimport\u001b[39;00m\u001b[38;5;250m \u001b[39m\u001b[38;5;21;01msys\u001b[39;00m\n\u001b[1;32m---> 22\u001b[0m num1 \u001b[38;5;241m=\u001b[39m \u001b[38;5;28mint\u001b[39m(sys\u001b[38;5;241m.\u001b[39margv[\u001b[38;5;241m1\u001b[39m])\n\u001b[0;32m     23\u001b[0m num2 \u001b[38;5;241m=\u001b[39m \u001b[38;5;28mint\u001b[39m(sys\u001b[38;5;241m.\u001b[39margv[\u001b[38;5;241m2\u001b[39m])\n\u001b[0;32m     24\u001b[0m num3 \u001b[38;5;241m=\u001b[39m \u001b[38;5;28mint\u001b[39m(sys\u001b[38;5;241m.\u001b[39margv[\u001b[38;5;241m3\u001b[39m])\n",
      "\u001b[1;31mValueError\u001b[0m: invalid literal for int() with base 10: '--f=c:\\\\Users\\\\abhin\\\\AppData\\\\Roaming\\\\jupyter\\\\runtime\\\\kernel-v333d04d2fca5fc5bd924be0b0dfb2fb709705686b.json'"
     ]
    }
   ],
   "source": [
    "'''`sys` → Sum from Command Line\n",
    " \n",
    "Write a program using `sys.argv` to take three numbers from the command line and print their sum.\n",
    " \n",
    "Sample Input (command line):\n",
    " \n",
    "```\n",
    " \n",
    "python add.py 5 10 15\n",
    " \n",
    "```\n",
    " \n",
    "Sample Output:\n",
    " \n",
    "```\n",
    " \n",
    "Sum = 30\n",
    " \n",
    "```'''\n",
    "import sys\n",
    "\n",
    "num1 = int(sys.argv[1])\n",
    "num2 = int(sys.argv[2])\n",
    "num3 = int(sys.argv[3])\n",
    "\n",
    "total = num1 + num2 + num3\n",
    "print(\"Sum =\", total)\n",
    "\n",
    "\n"
   ]
  },
  {
   "cell_type": "code",
   "execution_count": null,
   "id": "29de244a",
   "metadata": {},
   "outputs": [
    {
     "name": "stdout",
     "output_type": "stream",
     "text": [
      "Sum = 30\n"
     ]
    }
   ],
   "source": [
    "import sys\n",
    "sys.argv = [\"add.py\", \"5\", \"10\", \"15\"]\n",
    "\n",
    "num1 = int(sys.argv[1])\n",
    "num2 = int(sys.argv[2])\n",
    "num3 = int(sys.argv[3])\n",
    "\n",
    "total = num1 + num2 + num3\n",
    "print(\"Sum =\", total)\n"
   ]
  },
  {
   "cell_type": "code",
   "execution_count": null,
   "id": "5bb23d2f",
   "metadata": {},
   "outputs": [
    {
     "name": "stdout",
     "output_type": "stream",
     "text": [
      "\n",
      "1. Deposit\n",
      "2. Withdraw\n",
      "3. Show Balance\n",
      "4. Exit\n",
      "\n",
      "1. Deposit\n",
      "2. Withdraw\n",
      "3. Show Balance\n",
      "4. Exit\n",
      "Current Balance: 700\n",
      "\n",
      "1. Deposit\n",
      "2. Withdraw\n",
      "3. Show Balance\n",
      "4. Exit\n",
      "Current Balance: 700\n",
      "\n",
      "1. Deposit\n",
      "2. Withdraw\n",
      "3. Show Balance\n",
      "4. Exit\n",
      "Current Balance: 700\n",
      "\n",
      "1. Deposit\n",
      "2. Withdraw\n",
      "3. Show Balance\n",
      "4. Exit\n",
      "Invalid option\n",
      "\n",
      "1. Deposit\n",
      "2. Withdraw\n",
      "3. Show Balance\n",
      "4. Exit\n"
     ]
    }
   ],
   "source": [
    "'''OOPS CONCEPTS(1)'''\n",
    "class BankAccount:\n",
    "    def __init__(self, balance=0):\n",
    "        self.balance = balance\n",
    "    def deposit(self, amount):\n",
    "        self.balance += amount   \n",
    "    def withdraw(self, amount):\n",
    "        if amount <= self.balance:   \n",
    "            self.balance -= amount\n",
    "        else:\n",
    "            print(\"Not enough balance\")\n",
    "    def show_balance(self):\n",
    "        print(\"Current Balance:\", self.balance)\n",
    "balance = int(input(\"Enter starting balance: \"))\n",
    "account = BankAccount(balance)\n",
    "while True:\n",
    "    print(\"\\n1. Deposit\\n2. Withdraw\\n3. Show Balance\\n4. Exit\")\n",
    "    choice = input(\"Enter choice: \")\n",
    "    if choice == \"1\":\n",
    "        amt = int(input(\"Enter deposit amount: \"))\n",
    "        account.deposit(amt)\n",
    "    elif choice == \"2\":\n",
    "        amt = int(input(\"Enter withdraw amount: \"))\n",
    "        account.withdraw(amt)\n",
    "    elif choice == \"3\":\n",
    "        account.show_balance()\n",
    "    elif choice == \"4\":\n",
    "        print(\"EXIT\")\n",
    "        break\n",
    "    else:\n",
    "        print(\"Invalid option\")\n",
    "\n"
   ]
  },
  {
   "cell_type": "code",
   "execution_count": 4,
   "id": "737be4d2",
   "metadata": {},
   "outputs": [
    {
     "name": "stdout",
     "output_type": "stream",
     "text": [
      "average marks: 85.0\n",
      "highest marks: 90\n",
      "lowest marks: 80\n"
     ]
    }
   ],
   "source": [
    "#2. Student Class with Average\n",
    "#Attributes:\n",
    "#* `name` → student name\n",
    "#* `marks` → list of student marks `[90, 80, 85]`\n",
    "#Methods:\n",
    "#* `get_average()` → returns average marks\n",
    "#* `add_mark(mark)` → add new score\n",
    "#* `get_highest()` → return highest mark\n",
    "#* `get_lowest()` → return lowest mark\n",
    "class Student:\n",
    "    def __init__(self,name,marks):\n",
    "        self.name=name\n",
    "        self.marks=marks\n",
    "    def get_average(self):\n",
    "        return sum(self.marks)/len(self.marks)\n",
    "    def add_marks(self,mark):\n",
    "        self.marks.append(mark)\n",
    "    def get_highest(self):\n",
    "        if len(self.marks)==0:\n",
    "            return 0\n",
    "        return max(self.marks)\n",
    "    def get_lowest(self):\n",
    "        if len(self.marks)==0:\n",
    "            return 0\n",
    "        return min(self.marks)\n",
    "name=input(\"enter name of the student\")\n",
    "marks=list(map(int,input(\"enter the marks\").split()))\n",
    "student=Student(name,marks)\n",
    "print(\"average marks:\",student.get_average()) \n",
    "print(\"highest marks:\",student.get_highest())\n",
    "print(\"lowest marks:\",student.get_lowest())"
   ]
  },
  {
   "cell_type": "code",
   "execution_count": 5,
   "id": "ae4914db",
   "metadata": {},
   "outputs": [
    {
     "name": "stdout",
     "output_type": "stream",
     "text": [
      "Employee name: Abhinav\n",
      "Employee salary: 5000\n",
      "employee role: Developer\n",
      "bonus: 500.0\n"
     ]
    }
   ],
   "source": [
    "#3. Employee Bonus System\n",
    "#Attributes:\n",
    "#* `name` → employee name\n",
    "#* `salary` → base salary\n",
    "#* `role` → role of employee (e.g., Manager, Developer, Intern)\n",
    "#Methods:\n",
    "#* `bonus()` → calculates bonus depending on role:\n",
    "#  * Manager → 20% of salary\n",
    "#  * Developer → 10% of salary\n",
    "#  * Intern → 5% of salary\n",
    "class Employee:\n",
    "    def __init__(self,name,salary,role):\n",
    "        self.name=name\n",
    "        self.salary=salary\n",
    "        self.role=role\n",
    "    def get_bonus(self):\n",
    "        if self.role.lower()==\"manager\":\n",
    "            return salary*0.20\n",
    "        elif self.role.lower()==\"developer\":\n",
    "            return salary*0.10\n",
    "        elif self.role.lower==\"intern\":\n",
    "            return salary*0.05\n",
    "        else:\n",
    "            return 0\n",
    "name=input(\"enter the emloyee name\")\n",
    "salary=int(input(\"enter the salary of the employee\"))\n",
    "role=input(\"enter the role\")      \n",
    "emp=Employee(name,salary,role)\n",
    "print(\"Employee name:\",emp.name)\n",
    "print(\"Employee salary:\",emp.salary)\n",
    "print(\"employee role:\",emp.role)\n",
    "print(\"bonus:\",emp.get_bonus())\n"
   ]
  },
  {
   "cell_type": "code",
   "execution_count": 6,
   "id": "0eae8922",
   "metadata": {},
   "outputs": [
    {
     "name": "stdout",
     "output_type": "stream",
     "text": [
      "area of circle: 78.53981633974483\n",
      "area of rectangle: 12\n"
     ]
    }
   ],
   "source": [
    "#4. Shape Area Calculator\n",
    "#Base Class (Shape):\n",
    "#*Attribute: `name`\n",
    "# #*Method: `area()` → to be overridden by subclasses\n",
    "#Subclasses:\n",
    "#* `Circle(radius)` → area = π × r²\n",
    "#* `Rectangle(width, height)` → area = width × height\n",
    "import math\n",
    "class Shape:\n",
    "    def __init__(self,name):\n",
    "        self.name=name\n",
    "    def area(self):\n",
    "        raise NotImplementedError(\"Subclasses must implement area() method\")\n",
    "class Circle(Shape):\n",
    "    def __init__(self,radius):\n",
    "        super().__init__(\"Circle\")\n",
    "        self.radius=radius\n",
    "    def area(self):\n",
    "        return math.pi*(self.radius**2)\n",
    "class Rectangle(Shape):\n",
    "    def __init__(self,length,width):\n",
    "        super().__init__(\"Rectangle\")\n",
    "        self.length=length\n",
    "        self.width=width\n",
    "    def area(self):\n",
    "        return self.length*self.width \n",
    "c=Circle(5)\n",
    "r=Rectangle(4,3)\n",
    "print(\"area of circle:\",c.area())\n",
    "print(\"area of rectangle:\",r.area())   \n"
   ]
  },
  {
   "cell_type": "code",
   "execution_count": 7,
   "id": "e880b621",
   "metadata": {},
   "outputs": [
    {
     "name": "stdout",
     "output_type": "stream",
     "text": [
      "\n",
      "1. Add Item\n",
      "2. Remove Item\n",
      "3. Show Items\n",
      "4. Calculate Total\n",
      "5. Exit\n",
      "added rice for price 200.0\n",
      "\n",
      "1. Add Item\n",
      "2. Remove Item\n",
      "3. Show Items\n",
      "4. Calculate Total\n",
      "5. Exit\n",
      "Exit\n"
     ]
    }
   ],
   "source": [
    "#5. E-commerce Order Class\n",
    "#Attributes:\n",
    "#* `items` → dictionary of items `{name: price}`\n",
    "#Methods:\n",
    "#* `add(item, price)` → adds an item to order\n",
    "#* `remove(item)` → removes item\n",
    "#* `calculate_total()` → returns total price of all items\n",
    "#* `show_items()` → lists all items in order\n",
    "class Ecommerce:\n",
    "    def __init__(self):\n",
    "        self.items={}\n",
    "    def add(self,item,price):\n",
    "        self.items[item]=price\n",
    "        print(f\"added {item} for price {price}\")\n",
    "    def remove(self,item):\n",
    "        if item in self.items:\n",
    "            del self.items[item]\n",
    "            print(\"removed item is\",item)\n",
    "        else:\n",
    "            print(\"item not found\")\n",
    "    def calculate_total(self):\n",
    "        return sum(self.items.values())\n",
    "    def show_items(self):\n",
    "        for item,price in self.items.items():\n",
    "            print(f\"price {price} and item {item}\")\n",
    "e = Ecommerce()\n",
    "while True:\n",
    "    print(\"\\n1. Add Item\\n\" \\\n",
    "    \"2. Remove Item\\n\" \\\n",
    "    \"3. Show Items\\n\" \\\n",
    "    \"4. Calculate Total\\n\" \\\n",
    "    \"5. Exit\")\n",
    "    choice = input(\"Enter your choice: \")\n",
    "    if choice == \"1\":\n",
    "        item = input(\"Enter item name: \")\n",
    "        price = float(input(\"Enter item price: \"))\n",
    "        e.add(item, price)\n",
    "    elif choice == \"2\":\n",
    "        item = input(\"Enter item name to remove: \")\n",
    "        e.remove(item)\n",
    "    elif choice == \"3\":\n",
    "        e.show_items()\n",
    "    elif choice == \"4\":\n",
    "        print(\"Total Price: ₹\", e.calculate_total())\n",
    "    elif choice == \"5\":\n",
    "        print(\"Exit\")\n",
    "        break\n",
    "    else:\n",
    "        print(\"Invalid choice\")\n",
    "        \n"
   ]
  },
  {
   "cell_type": "code",
   "execution_count": 8,
   "id": "9be0083b",
   "metadata": {},
   "outputs": [
    {
     "name": "stdout",
     "output_type": "stream",
     "text": [
      "You borrowed Python 101\n",
      "You Returned Python 101\n",
      "Available Books:{'Python 101': 3, 'Data Science': 2}\n"
     ]
    }
   ],
   "source": [
    "'''oops concept(2)'''\n",
    "'''\n",
    "Python OOPs (5 challenges)\n",
    "### 1. Library System\n",
    "Create a `Library` class with:\n",
    "*Attributes: `books` (dict with book title → copies available)\n",
    "*Methods:\n",
    "* `borrow(title)` → decreases stock if available\n",
    "* `return_book(title)` → increases stock\n",
    "* `show_books()` → prints all available books\n",
    "Sample Input:\n",
    "```python\n",
    "lib = Library({\"Python 101\": 3, \"Data Science\": 2})\n",
    "print(lib.borrow(\"Python 101\"))\n",
    "print(lib.return_book(\"Python 101\"))\n",
    "lib.show_books()\n",
    "Sample Output:\n",
    "You borrowed Python 101\n",
    "You returned Python 101\n",
    "Available books: {'Python 101': 3, 'Data Science': 2}\n",
    "``` '''\n",
    "class Library:\n",
    "    def __init__(self,books):\n",
    "        self.books=books\n",
    "    def borrow(self,title):\n",
    "        if title in self.books:\n",
    "            self.books[title]-=1\n",
    "            print(f\"You borrowed {title}\")\n",
    "    def return_book(self,title):\n",
    "        self.books[title]+=1\n",
    "        print(f\"You Returned {title}\")\n",
    "    def show_books(self):\n",
    "        print(f\"Available Books:{self.books}\")\n",
    "lib = Library({\"Python 101\": 3, \"Data Science\": 2})\n",
    "lib.borrow(\"Python 101\")\n",
    "lib.return_book(\"Python 101\")\n",
    "lib.show_books()\n",
    "\n",
    "\n"
   ]
  },
  {
   "cell_type": "code",
   "execution_count": 9,
   "id": "1de483ed",
   "metadata": {},
   "outputs": [
    {
     "name": "stdout",
     "output_type": "stream",
     "text": [
      "Access Granted\n",
      "Deposited 200\n",
      "Withdrew 100\n",
      "Balance 600\n"
     ]
    }
   ],
   "source": [
    "\n",
    "'''\n",
    "### 2. ATM Machine with PIN\n",
    "Create an `ATM` class with:\n",
    "*Attributes: `balance`, `pin`, `is_authenticated`\n",
    "*Methods:\n",
    "* `login(pin)` → checks PIN\n",
    "* `check_balance()`\n",
    "* `deposit(amount)`\n",
    "* `withdraw(amount)`\n",
    "Sample Input:\n",
    "```python\n",
    "atm = ATM(1234, 500) \n",
    "print(atm.login(1234)) \n",
    "print(atm.deposit(200))\n",
    "print(atm.withdraw(100))\n",
    "print(atm.check_balance())\n",
    "```\n",
    "Sample Output:\n",
    "Access Granted \n",
    "Deposited 200\n",
    "Withdrew 100\n",
    "Balance: 600\n",
    "'''\n",
    "class ATM:\n",
    "    def __init__(self,pin,b):\n",
    "        self.pin=pin\n",
    "        self.b=b\n",
    "        self.is_aut=False\n",
    "    def login(self,pin):\n",
    "        if self.pin==pin:\n",
    "            self.is_aut=True\n",
    "            print(\"Access Granted\")\n",
    "        else:\n",
    "            print(\"Access Denied\")\n",
    "    def deposit(self,d):\n",
    "        self.b+=d\n",
    "        print(f\"Deposited {d}\")\n",
    "    def withdraw(self,a):\n",
    "        if a<self.b:\n",
    "            self.b-=a\n",
    "            print(f\"Withdrew {a}\")\n",
    "    def check_balance(self):\n",
    "        print(f\"Balance {self.b}\")\n",
    "\n",
    "atm = ATM(1234, 500) \n",
    "atm.login(1234) \n",
    "atm.deposit(200)\n",
    "atm.withdraw(100)\n",
    "atm.check_balance() "
   ]
  },
  {
   "cell_type": "code",
   "execution_count": 10,
   "id": "3d2e2e55",
   "metadata": {},
   "outputs": [
    {
     "name": "stdout",
     "output_type": "stream",
     "text": [
      "Dr. Smith is teaching Python\n",
      "Alice enrolled in Python\n",
      "Dr. Smith assigned: Project 1\n",
      "Alice submitted: Project 1\n"
     ]
    }
   ],
   "source": [
    "\n",
    "'''\n",
    "3. University System\n",
    "Create `Professor` and `Student` classes.\n",
    "*Professor Attributes: `name`, `subject`\n",
    "*Professor Methods: `teach(course)`, `give_assignment(task)`\n",
    "*Student Attributes: `name`, `courses`, `assignments`\n",
    "*Student Methods: `enroll(course)`, `submit_assignment(task)`\n",
    "Sample Input:\n",
    "```python\n",
    "prof = Professor(\"Dr. Smith\", \"Computer Science\")\n",
    "stud = Student(\"Alice\")\n",
    "print(prof.teach(\"Python\"))\n",
    "print(stud.enroll(\"Python\"))\n",
    "print(prof.give_assignment(\"Project 1\"))\n",
    "print(stud.submit_assignment(\"Project 1\"))\n",
    "```\n",
    "Sample Output:\n",
    "Dr. Smith is teaching Python\n",
    "Alice enrolled in Python\n",
    "Dr. Smith assigned: Project 1\n",
    "Alice submitted: Project 1\n",
    "'''\n",
    "class Professor:\n",
    "    def __init__(self,name ,subject):\n",
    "        self.name=name\n",
    "        self.subject=subject\n",
    "    def teach(self,course):\n",
    "        return (f\"{self.name} is teaching {course}\")\n",
    "    def give_assignment(self,task):\n",
    "        return (f\"{self.name} assigned: {task}\")\n",
    "class Student:\n",
    "    def __init__(self,name):\n",
    "        self.name=name\n",
    "    def enroll(self,course):\n",
    "        return (f\"{self.name} enrolled in {course}\")\n",
    "    def submit_assignment(self,task):\n",
    "        return (f\"{self.name} submitted: {task}\")\n",
    "prof = Professor(\"Dr. Smith\", \"Computer Science\")\n",
    "stud = Student(\"Alice\")\n",
    "print(prof.teach(\"Python\"))\n",
    "print(stud.enroll(\"Python\"))\n",
    "print(prof.give_assignment(\"Project 1\"))\n",
    "print(stud.submit_assignment(\"Project 1\"))"
   ]
  },
  {
   "cell_type": "code",
   "execution_count": 11,
   "id": "30777900",
   "metadata": {},
   "outputs": [
    {
     "name": "stdout",
     "output_type": "stream",
     "text": [
      "Booked 2 tickets for Avatar\n",
      "Cancelled 1 ticket for Avatar\n"
     ]
    },
    {
     "data": {
      "text/plain": [
       "{'Avatar': 9, 'Batman': 5}"
      ]
     },
     "execution_count": 11,
     "metadata": {},
     "output_type": "execute_result"
    }
   ],
   "source": [
    "\n",
    "### 4. Movie Ticket Booking \n",
    "'''\n",
    "Create a `Cinema` class with:\n",
    "*Attributes: `movies` (dict → movie: seats available)\n",
    "*Methods:\n",
    "* `book(movie, seats)` → reduces seat count\n",
    "* `cancel(movie, seats)` → adds back seats\n",
    "* `show_movies()` → shows available seats\n",
    "Sample Input:\n",
    "```python\n",
    "cinema = Cinema({\"Avatar\": 10, \"Batman\": 5})\n",
    "print(cinema.book(\"Avatar\", 2))\n",
    "print(cinema.cancel(\"Avatar\", 1))\n",
    "cinema.show_movies()\n",
    "```\n",
    "Sample Output:\n",
    "``''\n",
    "Booked 2 tickets for Avatar\n",
    "Cancelled 1 ticket for Avatar\n",
    "Movies: {'Avatar': 9, 'Batman': 5}\n",
    "'''\n",
    "class Cinema:\n",
    "    def __init__(self,movies):\n",
    "        self.movies=movies\n",
    "    def book(self,movie,seats):\n",
    "        if movie in self.movies:\n",
    "            self.movies[movie]-=seats\n",
    "            if seats<2:\n",
    "                return f\"Booked {seats} ticket for {movie}\"\n",
    "            else:\n",
    "                return f\"Booked {seats} tickets for {movie}\"\n",
    "    def cancel(self,movie,seats):\n",
    "        if movie in self.movies:\n",
    "            self.movies[movie]+=seats\n",
    "            if seats<2:\n",
    "                return f\"Cancelled {seats} ticket for {movie}\"\n",
    "            else:\n",
    "                return f\"Cancelled {seats} tickets for {movie}\"\n",
    "    def show_movies(self):\n",
    "        return self.movies\n",
    "cinema = Cinema({\"Avatar\": 10, \"Batman\": 5})\n",
    "print(cinema.book(\"Avatar\", 2))\n",
    "print(cinema.cancel(\"Avatar\", 1))\n",
    "cinema.show_movies()\n",
    "        \n",
    "\n",
    "        \n",
    " "
   ]
  },
  {
   "cell_type": "code",
   "execution_count": 12,
   "id": "7e490507",
   "metadata": {},
   "outputs": [
    {
     "name": "stdout",
     "output_type": "stream",
     "text": [
      "Burger added\n",
      "Pizza added\n",
      "Pizza price updated to 250\n",
      "Burger removed\n"
     ]
    },
    {
     "data": {
      "text/plain": [
       "\"{'Pizza': 250}\""
      ]
     },
     "execution_count": 12,
     "metadata": {},
     "output_type": "execute_result"
    }
   ],
   "source": [
    "\n",
    "### 5. Restaurant Menu\n",
    "'''Create a `Menu` class with:\n",
    "*Attributes: `items` (dict → item: price)\n",
    "*Methods:\n",
    "* `add_item(name, price)`\n",
    "* `remove_item(name)`\n",
    "* `update_price(name, new_price)`\n",
    "* `show_menu()`\n",
    "Sample Input:\n",
    "```python\n",
    "menu = Menu()\n",
    "print(menu.add_item(\"Burger\", 100))\n",
    "print(menu.add_item(\"Pizza\", 200))\n",
    "print(menu.update_price(\"Pizza\", 250))\n",
    "print(menu.remove_item(\"Burger\"))\n",
    "menu.show_menu()\n",
    "```\n",
    "Sample Output:\n",
    "```\n",
    "Burger added\n",
    "Pizza added\n",
    "Pizza price updated to 250\n",
    "Burger removed\n",
    "Menu: {'Pizza': 250} \n",
    "'''\n",
    "class Menu:\n",
    "    def __init__(self):\n",
    "        self.items={}\n",
    "    def add_item(self,name,price):\n",
    "        self.items[name]=price\n",
    "        return f\"{name} added\"\n",
    "    def remove_item(self,name):\n",
    "        if name in self.items:\n",
    "            del self.items[name]\n",
    "            return f\"{name} removed\"\n",
    "    def update_price(self,name,new_price):\n",
    "        if name in self.items:\n",
    "            self.items[name]=new_price\n",
    "            return f\"{name} price updated to {self.items[name]}\"\n",
    "    def show_menu(self):\n",
    "        return f\"{self.items}\"\n",
    "\n",
    "menu = Menu()\n",
    "print(menu.add_item(\"Burger\", 100))\n",
    "print(menu.add_item(\"Pizza\", 200))\n",
    "print(menu.update_price(\"Pizza\", 250))\n",
    "print(menu.remove_item(\"Burger\"))\n",
    "menu.show_menu()\n",
    "\n"
   ]
  },
  {
   "cell_type": "code",
   "execution_count": null,
   "id": "ea7cead4",
   "metadata": {},
   "outputs": [],
   "source": []
  }
 ],
 "metadata": {
  "kernelspec": {
   "display_name": "base",
   "language": "python",
   "name": "python3"
  },
  "language_info": {
   "codemirror_mode": {
    "name": "ipython",
    "version": 3
   },
   "file_extension": ".py",
   "mimetype": "text/x-python",
   "name": "python",
   "nbconvert_exporter": "python",
   "pygments_lexer": "ipython3",
   "version": "3.13.5"
  }
 },
 "nbformat": 4,
 "nbformat_minor": 5
}
