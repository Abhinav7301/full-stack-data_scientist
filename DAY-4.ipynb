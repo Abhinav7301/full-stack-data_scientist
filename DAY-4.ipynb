{
 "cells": [
  {
   "cell_type": "code",
   "execution_count": 22,
   "id": "ad13225b",
   "metadata": {},
   "outputs": [
    {
     "name": "stdout",
     "output_type": "stream",
     "text": [
      "Total number of words: 1\n"
     ]
    }
   ],
   "source": [
    "'''1. Problem: Given a text file, count the total number of words.'''\n",
    "\n",
    "with open(\"abc.txt\", \"r\") as f:\n",
    "    text = f.read()   \n",
    "words = text.split()\n",
    "word_count = len(words)\n",
    "print(\"Total number of words:\", word_count)\n"
   ]
  },
  {
   "cell_type": "code",
   "execution_count": 7,
   "id": "7d6eaa6a",
   "metadata": {},
   "outputs": [
    {
     "name": "stdout",
     "output_type": "stream",
     "text": [
      "enter password\n",
      "Strong password\n"
     ]
    }
   ],
   "source": [
    "'''2. Problem: Write a program to check if a password is strong (at least 8 characters, contains uppercase, lowercase, digit, and special char)'''\n",
    "import re\n",
    "def strong_password(password):\n",
    "    if (len(password) >=8 and \n",
    "        re.search(r'[A-Z]', password) and \n",
    "        re.search(r'[a-z]', password) and \n",
    "        re.search(r'[0-9]', password) and \n",
    "        re.search(r'[\\W_]', password)):\n",
    "        return True\n",
    "    return False\n",
    "print(\"enter password\")\n",
    "if strong_password(input()):\n",
    "    print(\"Strong password\")\n",
    "else:\n",
    "    print(\"weak password\")\n",
    "\n"
   ]
  },
  {
   "cell_type": "code",
   "execution_count": null,
   "id": "58033a15",
   "metadata": {},
   "outputs": [
    {
     "name": "stdout",
     "output_type": "stream",
     "text": [
      "11\n",
      "5.0\n",
      "21\n",
      "4\n"
     ]
    }
   ],
   "source": [
    "'''3. Problem: Implement a calculator with +, -, *, / operations.'''\n",
    "def calc(a, b, c):\n",
    "    if c == '+':\n",
    "        return a + b\n",
    "    elif c == '-':\n",
    "        return a - b\n",
    "    elif c == '*':\n",
    "        return a * b\n",
    "    elif c == '/':\n",
    "        return a / b\n",
    "    else:\n",
    "        return \"Invalid operation\"\n",
    "print(calc(5, 6, '+'))\n",
    "print(calc(10, 2, '/'))\n",
    "print(calc(7, 3, '*'))\n",
    "print(calc(8, 4, '-'))\n",
    "\n"
   ]
  },
  {
   "cell_type": "code",
   "execution_count": 16,
   "id": "e46a9b21",
   "metadata": {},
   "outputs": [
    {
     "name": "stdout",
     "output_type": "stream",
     "text": [
      "Duplicate student names: ['abhi', 'sweety']\n"
     ]
    }
   ],
   "source": [
    "'''4. Problem: Given a list of student names, find duplicates'''\n",
    "\n",
    "\n",
    "students = [\"abhi\",\"sweety\",\"abhi\",\"deepu\",\"pandu\",\"sweety\"]\n",
    "duplicates = []\n",
    "for name in students:\n",
    "    if students.count(name)>1 and name not in duplicates:\n",
    "        duplicates.append(name)\n",
    "print(\"Duplicate student names:\", duplicates)\n",
    "\n"
   ]
  },
  {
   "cell_type": "code",
   "execution_count": 18,
   "id": "821fb820",
   "metadata": {},
   "outputs": [
    {
     "name": "stdout",
     "output_type": "stream",
     "text": [
      "Celsius to Fahrenheit: 89.6\n",
      "Fahrenheit to Celsius: 35.0\n"
     ]
    }
   ],
   "source": [
    "'''5. Problem: Convert between Celsius and Fahrenheit'''\n",
    "\n",
    "def c_to_f(celsius):\n",
    "    return (celsius * 9/5) + 32\n",
    "def f_to_c(fahrenheit):\n",
    "    return (fahrenheit - 32) * 5/9\n",
    "print(\"Celsius to Fahrenheit:\", c_to_f(32))\n",
    "print(\"Fahrenheit to Celsius:\", f_to_c(95))"
   ]
  },
  {
   "cell_type": "code",
   "execution_count": 19,
   "id": "4d460b99",
   "metadata": {},
   "outputs": [
    {
     "name": "stdout",
     "output_type": "stream",
     "text": [
      "Largest number from list: 80\n"
     ]
    }
   ],
   "source": [
    "'''6. Problem: Find the largest number from a list of integers.'''\n",
    "num = [20,30,40,50,60,80]\n",
    "print(\"Largest number from list:\",max(num))"
   ]
  },
  {
   "cell_type": "code",
   "execution_count": 23,
   "id": "735fbeed",
   "metadata": {},
   "outputs": [
    {
     "name": "stdout",
     "output_type": "stream",
     "text": [
      "simple intrest: 100.0\n"
     ]
    }
   ],
   "source": [
    "'''7. Problem: Calculate Simple Interest'''\n",
    "def simple_interest(p,r,t):\n",
    "    return (p*r*t)/100\n",
    "print(\"simple intrest:\",simple_interest(1000,5,2))\n"
   ]
  },
  {
   "cell_type": "code",
   "execution_count": null,
   "id": "263d7a83",
   "metadata": {},
   "outputs": [
    {
     "name": "stdout",
     "output_type": "stream",
     "text": [
      "Defaulters (less than 75% attendance): ['Ravi', 'Sita', 'Aisha']\n"
     ]
    }
   ],
   "source": [
    "'''8.Given a dictionary of student names and attendance %, find defaulters (<75%).'''\n",
    "students = {\n",
    "    \"Abhinav\": 80,\n",
    "    \"sweety\": 60,\n",
    "    \"deepu\": 74,\n",
    "    \"pandu\": 50,\n",
    "}\n",
    "\n",
    "defaulters = []\n",
    "\n",
    "for name, attendance in students.items():\n",
    "    if attendance < 75:\n",
    "        defaulters.append(name)\n",
    "\n",
    "print(\"Defaulters (less than 75% attendance):\", defaulters)\n"
   ]
  },
  {
   "cell_type": "code",
   "execution_count": 31,
   "id": "f6b0a564",
   "metadata": {},
   "outputs": [
    {
     "name": "stdout",
     "output_type": "stream",
     "text": [
      "Sum of digits: 10\n"
     ]
    }
   ],
   "source": [
    "'''9. Problem: Input: 1234 → Output: 10'''\n",
    "num = input(\"Enter a number: \") \n",
    "digit_sum = 0\n",
    "for digit in num:\n",
    "    digit_sum += int(digit) \n",
    "print(\"Sum of digits:\", digit_sum)\n",
    "\n",
    "\n"
   ]
  },
  {
   "cell_type": "code",
   "execution_count": 30,
   "id": "ff7b0d4a",
   "metadata": {},
   "outputs": [
    {
     "name": "stdout",
     "output_type": "stream",
     "text": [
      "True\n"
     ]
    }
   ],
   "source": [
    "'''10. Problem: Write a function to check if a number is prime.'''\n",
    "def is_prime(n):\n",
    "    if n <= 1:\n",
    "        return False\n",
    "    for i in range(2, n):\n",
    "        if n % i == 0:\n",
    "            return False\n",
    "    return True\n",
    "print(is_prime(7))\n"
   ]
  },
  {
   "cell_type": "code",
   "execution_count": 34,
   "id": "b52e9409",
   "metadata": {},
   "outputs": [
    {
     "name": "stdout",
     "output_type": "stream",
     "text": [
      "Largest number from list: 50\n",
      "Smallest number from list: 10\n"
     ]
    }
   ],
   "source": [
    "'''11. Problem: Find smallest and largest numbers from a list'''\n",
    "n = list(map(int, input(\"Enter the numbers: \").split()))\n",
    "print(\"Largest number from list:\", max(n))\n",
    "print(\"Smallest number from list:\", min(n))\n",
    "\n",
    "\n"
   ]
  },
  {
   "cell_type": "code",
   "execution_count": 40,
   "id": "eafebd1b",
   "metadata": {},
   "outputs": [],
   "source": [
    "del sum"
   ]
  },
  {
   "cell_type": "code",
   "execution_count": 41,
   "id": "eb134e44",
   "metadata": {},
   "outputs": [
    {
     "name": "stdout",
     "output_type": "stream",
     "text": [
      "Items: {'apple': 100, 'orange': 200, 'mango': 90}\n",
      "Total Bill: 390\n"
     ]
    }
   ],
   "source": [
    "'''12. Problem: Given items with prices in a dictionary, calculate total bill'''\n",
    "dict_items = {\n",
    "    \"apple\": 100,\n",
    "    \"orange\": 200,\n",
    "    \"mango\": 90\n",
    "}\n",
    "bill = sum(dict_items.values())\n",
    "\n",
    "print(\"Items:\", dict_items)\n",
    "print(\"Total Bill:\", bill)\n"
   ]
  },
  {
   "cell_type": "code",
   "execution_count": 42,
   "id": "0c46722c",
   "metadata": {},
   "outputs": [
    {
     "name": "stdout",
     "output_type": "stream",
     "text": [
      "Largest number is: 3\n"
     ]
    }
   ],
   "source": [
    "'''13. Problem: Input 3 numbers, print the largest.'''\n",
    "\n",
    "a, b, c = map(int, input(\"Enter 3 numbers: \").split())\n",
    "if a >= b and a >= c:\n",
    "    largest = a\n",
    "elif b >= a and b >= c:\n",
    "    largest = b\n",
    "else:\n",
    "    largest = c\n",
    "print(\"Largest number is:\", largest)\n"
   ]
  },
  {
   "cell_type": "code",
   "execution_count": 44,
   "id": "074471c5",
   "metadata": {},
   "outputs": [
    {
     "name": "stdout",
     "output_type": "stream",
     "text": [
      "Character frequencies:\n",
      "'i' : 2\n",
      "'n' : 2\n",
      "'t' : 2\n",
      "'r' : 1\n",
      "'e' : 1\n",
      "'s' : 1\n",
      "'g' : 1\n",
      "Counter({'r': 2, 'g': 2, 'm': 2, 'p': 1, 'o': 1, 'a': 1, 'i': 1, 'n': 1})\n"
     ]
    }
   ],
   "source": [
    "'''14. Problem: Count how many times each character appears in a string'''\n",
    "\n",
    "from collections import Counter\n",
    "s = input(\"Enter a string: \")\n",
    "freq = Counter(s)\n",
    "print(\"Character frequencies:\")\n",
    "for char, count in freq.items():\n",
    "    print(f\"'{char}' : {count}\")\n",
    "\n",
    "    '''/n'''\n",
    "from collections import Counter\n",
    "\n",
    "s = \"programming\"\n",
    "print(Counter(s))\n",
    "\n"
   ]
  },
  {
   "cell_type": "code",
   "execution_count": 2,
   "id": "de8f8818",
   "metadata": {},
   "outputs": [
    {
     "name": "stdout",
     "output_type": "stream",
     "text": [
      "Electricity Bill = ₹2200\n"
     ]
    }
   ],
   "source": [
    "'''15. Problem: Calculate electricity bill:\n",
    "\n",
    "First 100 units → ₹5/unit\n",
    "\n",
    "Next 100 units → ₹7/unit\n",
    "\n",
    "Above 200 units → ₹10/unit'''\n",
    "\n",
    "def electricity_bill(units: int) -> int:\n",
    "    if units <= 100:\n",
    "        return units * 5\n",
    "    elif units <= 200:\n",
    "        return (100 * 5) + (units - 100) * 7\n",
    "    else:\n",
    "        return (100 * 5) + (100 * 7) + (units - 200) * 10\n",
    "units = int(input(\"Enter number of units used: \"))\n",
    "bill = electricity_bill(units)\n",
    "print(f\"Electricity Bill = ₹{bill}\")\n",
    "\n"
   ]
  },
  {
   "cell_type": "code",
   "execution_count": 2,
   "id": "66169f9a",
   "metadata": {},
   "outputs": [
    {
     "name": "stdout",
     "output_type": "stream",
     "text": [
      "sorted order is: ['a', 'b', 'd', 'e']\n"
     ]
    }
   ],
   "source": [
    "'''16. Problem: Sort a list of names in ascending order.'''\n",
    "names = [\"e\",\"b\",\"d\",\"a\"]\n",
    "names.sort()\n",
    "print(\"sorted order is:\",names)"
   ]
  },
  {
   "cell_type": "code",
   "execution_count": 2,
   "id": "a6a427ec",
   "metadata": {},
   "outputs": [
    {
     "name": "stdout",
     "output_type": "stream",
     "text": [
      "output is: 4321\n"
     ]
    }
   ],
   "source": [
    "'''17. Problem: Input: 1234 → Output: 4321'''\n",
    "num = input(\"enter a number:\")\n",
    "outputt = num[::-1]\n",
    "print(\"output is:\",outputt)"
   ]
  },
  {
   "cell_type": "code",
   "execution_count": null,
   "id": "d10e1e10",
   "metadata": {},
   "outputs": [
    {
     "name": "stdout",
     "output_type": "stream",
     "text": [
      "positive numbers: 4\n",
      "negative numbers: 3\n",
      "zero numbers: 2\n"
     ]
    }
   ],
   "source": [
    "'''18. Problem: Given a list, count positive, negative, and zero numbers.'''\n",
    "list = [10,-5,6,-9,0,3,-2,4,0]\n",
    "positive = 0\n",
    "negative = 0\n",
    "zero = 0\n",
    "for i in list:\n",
    "    if i > 0:\n",
    "        positive+=1\n",
    "    elif i<0:\n",
    "        negative+=1\n",
    "    else:\n",
    "        zero+=1\n",
    "print(\"positive numbers:\",positive)\n",
    "print(\"negative numbers:\",negative)\n",
    "print(\"zero numbers:\",zero)"
   ]
  },
  {
   "cell_type": "code",
   "execution_count": 4,
   "id": "4bce875d",
   "metadata": {},
   "outputs": [
    {
     "name": "stdout",
     "output_type": "stream",
     "text": [
      "PIN accepted\n"
     ]
    }
   ],
   "source": [
    "\n",
    "'''19. Problem: User has 3 attempts to enter correct PIN.'''\n",
    "correct_pin = \"1234\"\n",
    "for attempt in range(3):\n",
    "    pin = input(\"enter your PIN:\")\n",
    "    if pin == correct_pin:\n",
    "        print(\"PIN accepted\")\n",
    "        break\n",
    "    else:\n",
    "        print(\"INCORRECT PIN\")\n",
    "        \n"
   ]
  },
  {
   "cell_type": "code",
   "execution_count": 3,
   "id": "84dace99",
   "metadata": {},
   "outputs": [
    {
     "name": "stdout",
     "output_type": "stream",
     "text": [
      "cant divisible by zero:\n"
     ]
    }
   ],
   "source": [
    "'''20. Problem: Write a program that asks for two numbers and divides them. Handle division by zero.'''\n",
    "\n",
    "num1 = float(input(\"enter the first num:\"))\n",
    "num2 = float(input(\"enter the second num:\"))\n",
    "try:\n",
    "    result = num1/num2\n",
    "    print(\"result is:\",result)\n",
    "except ZeroDivisionError:\n",
    "    print(\"cant divisible by zero:\")"
   ]
  },
  {
   "cell_type": "code",
   "execution_count": 6,
   "id": "233d87b5",
   "metadata": {},
   "outputs": [
    {
     "name": "stdout",
     "output_type": "stream",
     "text": [
      "cant divisible by zero\n"
     ]
    }
   ],
   "source": [
    "'''21. Problem: Write a program that handles both ValueError (invalid input) and ZeroDivisionError.'''\n",
    "try:\n",
    "    num1 = float(input(\"enter the first num:\"))\n",
    "    \n",
    "    num2 = float(input(\"enter the second num:\"))\n",
    "    \n",
    "    result = num1/num2\n",
    "    print(\"result is:\",result)\n",
    "\n",
    "except ValueError:\n",
    "    print(\"Take a  valid input\")\n",
    "except ZeroDivisionError:\n",
    "    print(\"cant divisible by zero\")\n",
    "    "
   ]
  },
  {
   "cell_type": "code",
   "execution_count": 8,
   "id": "6ba8f218",
   "metadata": {},
   "outputs": [
    {
     "name": "stdout",
     "output_type": "stream",
     "text": [
      "withdrawal amount is greater than balance\n"
     ]
    }
   ],
   "source": [
    "'''22. Problem: If withdrawal amount is greater than balance, raise an exception.'''\n",
    "balance = 10000\n",
    "try:\n",
    "    amount = float(input(\"enter the amount:\"))\n",
    "    if amount>balance:\n",
    "        raise Exception(\"withdrawal amount is greater than balance\")\n",
    "    else:\n",
    "        balance -= amount\n",
    "        print(\"withdrawal succeessfull\")\n",
    "        print(\"remaining balance:\",balance)\n",
    "except ValueError:\n",
    "    print(\"enter a valid required input\")\n",
    "except Exception as e:\n",
    "    print(e)"
   ]
  },
  {
   "cell_type": "code",
   "execution_count": 9,
   "id": "f9ec7bc7",
   "metadata": {},
   "outputs": [
    {
     "name": "stdout",
     "output_type": "stream",
     "text": [
      "Total Bill = ₹1200\n",
      "Bill processing finished\n"
     ]
    }
   ],
   "source": [
    "'''23. Problem: Calculate total price, handle invalid input, and always show \"Bill processing finished\".\n",
    "\n",
    "\t•\tFirst 100 units → ₹5/unit\n",
    "\n",
    "\t•\tNext 100 units → ₹7/unit\n",
    "\n",
    "\t•\tAbove 200 units → ₹10/unit'''\n",
    "\n",
    "try:\n",
    "    units = int(input(\"Enter units consumed: \"))\n",
    "    if units < 0:\n",
    "        raise ValueError(\"Units cannot be negative\")\n",
    "    if units <= 100:\n",
    "        total = units * 5\n",
    "    elif units <= 200:\n",
    "        total = (100 * 5) + (units - 100) * 7\n",
    "    else:\n",
    "        total = (100 * 5) + (100 * 7) + (units - 200) * 10\n",
    "\n",
    "    print(f\"Total Bill = ₹{total}\")\n",
    "except ValueError as e:\n",
    "    print(\"Invalid input:\", e)\n",
    "finally:\n",
    "    print(\"Bill processing finished\")\n"
   ]
  },
  {
   "cell_type": "code",
   "execution_count": 10,
   "id": "ef4ccbde",
   "metadata": {},
   "outputs": [
    {
     "name": "stdout",
     "output_type": "stream",
     "text": [
      "Total Bill = ₹1200\n",
      "Bill processing finished\n"
     ]
    }
   ],
   "source": [
    "try:\n",
    "    units = int(input(\"Enter units consumed: \"))\n",
    "\n",
    "    if units < 0:\n",
    "        raise ValueError(\"Units cannot be negative\")\n",
    "\n",
    "    if units <= 100:\n",
    "        total = units * 5\n",
    "    elif units <= 200:\n",
    "        total = (100 * 5) + (units - 100) * 7\n",
    "    else:\n",
    "        total = (100 * 5) + (100 * 7) + (units - 200) * 10\n",
    "\n",
    "    print(f\"Total Bill = ₹{total}\")\n",
    "\n",
    "except ValueError as e:\n",
    "    print(\"Invalid input:\", e)\n",
    "\n",
    "finally:\n",
    "    print(\"Bill processing finished\")\n"
   ]
  },
  {
   "cell_type": "code",
   "execution_count": null,
   "id": "f372c621",
   "metadata": {},
   "outputs": [],
   "source": []
  }
 ],
 "metadata": {
  "kernelspec": {
   "display_name": "base",
   "language": "python",
   "name": "python3"
  },
  "language_info": {
   "codemirror_mode": {
    "name": "ipython",
    "version": 3
   },
   "file_extension": ".py",
   "mimetype": "text/x-python",
   "name": "python",
   "nbconvert_exporter": "python",
   "pygments_lexer": "ipython3",
   "version": "3.13.5"
  }
 },
 "nbformat": 4,
 "nbformat_minor": 5
}
