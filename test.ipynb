{
 "cells": [
  {
   "cell_type": "code",
   "execution_count": 10,
   "metadata": {},
   "outputs": [
    {
     "ename": "",
     "evalue": "",
     "output_type": "error",
     "traceback": [
      "\u001b[1;31mCannot execute code, session has been disposed. Please try restarting the Kernel."
     ]
    },
    {
     "ename": "",
     "evalue": "",
     "output_type": "error",
     "traceback": [
      "\u001b[1;31mCannot execute code, session has been disposed. Please try restarting the Kernel. \n",
      "\u001b[1;31mView Jupyter <a href='command:jupyter.viewOutput'>log</a> for further details."
     ]
    }
   ],
   "source": [
    "a=int(input(\"enter the number a :\"))\n",
    "b=int(input(\"enter the number b :\"))\n",
    "a,b=b,a\n",
    "print(a,b)                                                                                                                            "
   ]
  },
  {
   "cell_type": "code",
   "execution_count": null,
   "metadata": {},
   "outputs": [],
   "source": [
    "n = input(\"enter a name:\")\n",
    "for i in range(len(n)-1,-1,-1):\n",
    "    print(n[i],end=\"\")\n",
    "print()"
   ]
  },
  {
   "cell_type": "code",
   "execution_count": null,
   "metadata": {},
   "outputs": [],
   "source": [
    "a = input(\"enter the consonents\")\n",
    "b = \"aieou\"\n",
    "v=0\n",
    "c=0\n",
    "for i in a:\n",
    "    if i in b:\n",
    "        v+=1\n",
    "    else:\n",
    "        c+=1\n",
    "print(\"no.of vowels :\",v)\n",
    "print(\"no.of consonents:\",c)"
   ]
  },
  {
   "cell_type": "code",
   "execution_count": 7,
   "metadata": {},
   "outputs": [
    {
     "name": "stdout",
     "output_type": "stream",
     "text": [
      "the number is armstrong\n"
     ]
    }
   ],
   "source": [
    "n = int(input())\n",
    "a=n\n",
    "s=0\n",
    "while(n>0):\n",
    "    r=n%10\n",
    "    s=s+(r**3)\n",
    "    n=n//10\n",
    "if a==s:\n",
    "    print(\"the number is armstrong\")\n",
    "else:\n",
    "    print(\"it is not an armstrong\") "
   ]
  },
  {
   "cell_type": "code",
   "execution_count": 1,
   "metadata": {},
   "outputs": [
    {
     "name": "stdout",
     "output_type": "stream",
     "text": [
      "7 * 1 = 7\n",
      "7 * 2 = 14\n",
      "7 * 3 = 21\n",
      "7 * 4 = 28\n",
      "7 * 5 = 35\n",
      "7 * 6 = 42\n",
      "7 * 7 = 49\n",
      "7 * 8 = 56\n",
      "7 * 9 = 63\n",
      "7 * 10 = 70\n"
     ]
    }
   ],
   "source": [
    "a = 7\n",
    "for i in range(1,11):\n",
    "    print(a,\"*\",i,\"=\",a*i) "
   ]
  },
  {
   "cell_type": "code",
   "execution_count": 3,
   "metadata": {},
   "outputs": [
    {
     "name": "stdout",
     "output_type": "stream",
     "text": [
      "leap year\n"
     ]
    }
   ],
   "source": [
    "l = int(input())\n",
    "if l%4==0 and l%100!=0 or l%400==0:\n",
    "    print(\"leap year\")\n",
    "else:\n",
    "    print(\"not a leap year\")"
   ]
  },
  {
   "cell_type": "code",
   "execution_count": 5,
   "metadata": {},
   "outputs": [
    {
     "name": "stdout",
     "output_type": "stream",
     "text": [
      "palindrome:\n"
     ]
    }
   ],
   "source": [
    "a = input(\"enter a string1\")\n",
    "if a==a[::-1]:\n",
    "    print(\"palindrome:\")\n",
    "else:\n",
    "    print(\"not a palindrome:\")"
   ]
  },
  {
   "cell_type": "code",
   "execution_count": 6,
   "metadata": {},
   "outputs": [
    {
     "name": "stdout",
     "output_type": "stream",
     "text": [
      "Factorial:720\n"
     ]
    }
   ],
   "source": [
    "a = int(input())\n",
    "k=1\n",
    "for i in range(1,a+1):\n",
    "    k=k*i\n",
    "print(f\"Factorial:{k}\")"
   ]
  },
  {
   "cell_type": "code",
   "execution_count": null,
   "metadata": {},
   "outputs": [],
   "source": []
  }
 ],
 "metadata": {
  "kernelspec": {
   "display_name": "venv",
   "language": "python",
   "name": "python3"
  },
  "language_info": {
   "codemirror_mode": {
    "name": "ipython",
    "version": 3
   },
   "file_extension": ".py",
   "mimetype": "text/x-python",
   "name": "python",
   "nbconvert_exporter": "python",
   "pygments_lexer": "ipython3",
   "version": "3.11.0"
  }
 },
 "nbformat": 4,
 "nbformat_minor": 2
}
